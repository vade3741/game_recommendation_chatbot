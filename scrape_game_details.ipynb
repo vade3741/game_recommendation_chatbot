{
 "cells": [
  {
   "cell_type": "code",
   "execution_count": 1,
   "metadata": {},
   "outputs": [
    {
     "name": "stdout",
     "output_type": "stream",
     "text": [
      "Requirement already satisfied: google_play_scraper in c:\\users\\saran\\appdata\\local\\programs\\python\\python310\\lib\\site-packages (1.2.6)Note: you may need to restart the kernel to use updated packages.\n",
      "\n"
     ]
    },
    {
     "name": "stderr",
     "output_type": "stream",
     "text": [
      "\n",
      "[notice] A new release of pip is available: 23.2.1 -> 24.0\n",
      "[notice] To update, run: python.exe -m pip install --upgrade pip\n"
     ]
    },
    {
     "name": "stdout",
     "output_type": "stream",
     "text": [
      "Requirement already satisfied: pandas in c:\\users\\saran\\appdata\\local\\programs\\python\\python310\\lib\\site-packages (2.2.2)\n",
      "Requirement already satisfied: numpy>=1.22.4 in c:\\users\\saran\\appdata\\local\\programs\\python\\python310\\lib\\site-packages (from pandas) (1.24.3)\n",
      "Requirement already satisfied: python-dateutil>=2.8.2 in c:\\users\\saran\\appdata\\local\\programs\\python\\python310\\lib\\site-packages (from pandas) (2.8.2)\n",
      "Requirement already satisfied: pytz>=2020.1 in c:\\users\\saran\\appdata\\local\\programs\\python\\python310\\lib\\site-packages (from pandas) (2024.1)\n",
      "Requirement already satisfied: tzdata>=2022.7 in c:\\users\\saran\\appdata\\local\\programs\\python\\python310\\lib\\site-packages (from pandas) (2024.1)\n",
      "Requirement already satisfied: six>=1.5 in c:\\users\\saran\\appdata\\local\\programs\\python\\python310\\lib\\site-packages (from python-dateutil>=2.8.2->pandas) (1.16.0)\n",
      "Note: you may need to restart the kernel to use updated packages.\n"
     ]
    },
    {
     "name": "stderr",
     "output_type": "stream",
     "text": [
      "\n",
      "[notice] A new release of pip is available: 23.2.1 -> 24.0\n",
      "[notice] To update, run: python.exe -m pip install --upgrade pip\n"
     ]
    }
   ],
   "source": [
    "%pip install google_play_scraper\n",
    "%pip install pandas"
   ]
  },
  {
   "cell_type": "code",
   "execution_count": 16,
   "metadata": {},
   "outputs": [],
   "source": [
    "from google_play_scraper import app"
   ]
  },
  {
   "cell_type": "code",
   "execution_count": 17,
   "metadata": {},
   "outputs": [],
   "source": [
    "import os\n",
    "import json\n",
    "import pandas as pd \n",
    "\n",
    "# Get list of filenames\n",
    "file_list = list()\n",
    "for (dirpath, dirnames, filenames) in os.walk(r'C:\\Users\\saran\\OneDrive\\Documents\\Desktop\\project gg\\Data'):\n",
    "    file_list += [os.path.join(dirpath, file) for file in filenames if file.endswith('.csv')]"
   ]
  },
  {
   "cell_type": "code",
   "execution_count": 18,
   "metadata": {},
   "outputs": [
    {
     "data": {
      "text/plain": [
       "['C:\\\\Users\\\\saran\\\\OneDrive\\\\Documents\\\\Desktop\\\\project gg\\\\Data\\\\google_games\\\\AppID_TOP_FREE_GAME.csv',\n",
       " 'C:\\\\Users\\\\saran\\\\OneDrive\\\\Documents\\\\Desktop\\\\project gg\\\\Data\\\\google_games\\\\AppID_TOP_FREE_GAME_ACTION.csv',\n",
       " 'C:\\\\Users\\\\saran\\\\OneDrive\\\\Documents\\\\Desktop\\\\project gg\\\\Data\\\\google_games\\\\AppID_TOP_FREE_GAME_ADVENTURE.csv',\n",
       " 'C:\\\\Users\\\\saran\\\\OneDrive\\\\Documents\\\\Desktop\\\\project gg\\\\Data\\\\google_games\\\\AppID_TOP_FREE_GAME_ARCADE.csv',\n",
       " 'C:\\\\Users\\\\saran\\\\OneDrive\\\\Documents\\\\Desktop\\\\project gg\\\\Data\\\\google_games\\\\AppID_TOP_FREE_GAME_BOARD.csv',\n",
       " 'C:\\\\Users\\\\saran\\\\OneDrive\\\\Documents\\\\Desktop\\\\project gg\\\\Data\\\\google_games\\\\AppID_TOP_FREE_GAME_CARD.csv',\n",
       " 'C:\\\\Users\\\\saran\\\\OneDrive\\\\Documents\\\\Desktop\\\\project gg\\\\Data\\\\google_games\\\\AppID_TOP_FREE_GAME_CASINO.csv',\n",
       " 'C:\\\\Users\\\\saran\\\\OneDrive\\\\Documents\\\\Desktop\\\\project gg\\\\Data\\\\google_games\\\\AppID_TOP_FREE_GAME_CASUAL.csv',\n",
       " 'C:\\\\Users\\\\saran\\\\OneDrive\\\\Documents\\\\Desktop\\\\project gg\\\\Data\\\\google_games\\\\AppID_TOP_FREE_GAME_EDUCATIONAL.csv',\n",
       " 'C:\\\\Users\\\\saran\\\\OneDrive\\\\Documents\\\\Desktop\\\\project gg\\\\Data\\\\google_games\\\\AppID_TOP_FREE_GAME_MUSIC.csv']"
      ]
     },
     "execution_count": 18,
     "metadata": {},
     "output_type": "execute_result"
    }
   ],
   "source": [
    "\n",
    "file_list[:10]"
   ]
  },
  {
   "cell_type": "code",
   "execution_count": 19,
   "metadata": {},
   "outputs": [],
   "source": [
    "csv_directory = r'C:\\Users\\saran\\OneDrive\\Documents\\Desktop\\project gg\\Data\\google_games'\n",
    "dfs = []\n",
    "for f in file_list:\n",
    "    df = pd.read_csv(f)\n",
    "    dfs.append(df)\n",
    "games = pd.concat(dfs, ignore_index=True)"
   ]
  },
  {
   "cell_type": "code",
   "execution_count": 20,
   "metadata": {},
   "outputs": [
    {
     "data": {
      "text/html": [
       "<div>\n",
       "<style scoped>\n",
       "    .dataframe tbody tr th:only-of-type {\n",
       "        vertical-align: middle;\n",
       "    }\n",
       "\n",
       "    .dataframe tbody tr th {\n",
       "        vertical-align: top;\n",
       "    }\n",
       "\n",
       "    .dataframe thead th {\n",
       "        text-align: right;\n",
       "    }\n",
       "</style>\n",
       "<table border=\"1\" class=\"dataframe\">\n",
       "  <thead>\n",
       "    <tr style=\"text-align: right;\">\n",
       "      <th></th>\n",
       "      <th>Game Name</th>\n",
       "      <th>Package Name</th>\n",
       "      <th>Description</th>\n",
       "      <th>Icon URL</th>\n",
       "      <th>Category</th>\n",
       "    </tr>\n",
       "  </thead>\n",
       "  <tbody>\n",
       "    <tr>\n",
       "      <th>0</th>\n",
       "      <td>Wuthering Waves</td>\n",
       "      <td>com.kurogame.wutheringwaves.global</td>\n",
       "      <td>Wuthering Waves is a story-rich open-world act...</td>\n",
       "      <td>https://play-lh.googleusercontent.com/ameFGPYH...</td>\n",
       "      <td>GAME</td>\n",
       "    </tr>\n",
       "    <tr>\n",
       "      <th>1</th>\n",
       "      <td>Roblox</td>\n",
       "      <td>com.roblox.client</td>\n",
       "      <td>Roblox is the ultimate virtual universe that l...</td>\n",
       "      <td>https://play-lh.googleusercontent.com/WNWZaxi9...</td>\n",
       "      <td>GAME</td>\n",
       "    </tr>\n",
       "    <tr>\n",
       "      <th>2</th>\n",
       "      <td>Subway Surfers</td>\n",
       "      <td>com.kiloo.subwaysurf</td>\n",
       "      <td>DASH as fast as you can! &lt;br&gt;DODGE the oncomin...</td>\n",
       "      <td>https://play-lh.googleusercontent.com/ykHUp1lJ...</td>\n",
       "      <td>GAME</td>\n",
       "    </tr>\n",
       "    <tr>\n",
       "      <th>3</th>\n",
       "      <td>MONOPOLY GO!</td>\n",
       "      <td>com.scopely.monopolygo</td>\n",
       "      <td>Hit GO! Roll the dice! Earn MONOPOLY money, in...</td>\n",
       "      <td>https://play-lh.googleusercontent.com/DfYkSl-n...</td>\n",
       "      <td>GAME</td>\n",
       "    </tr>\n",
       "    <tr>\n",
       "      <th>4</th>\n",
       "      <td>Fishing Clash</td>\n",
       "      <td>com.tensquaregames.letsfish2</td>\n",
       "      <td>Have you ever had fish on your brain, but you ...</td>\n",
       "      <td>https://play-lh.googleusercontent.com/edBDw0Tk...</td>\n",
       "      <td>GAME</td>\n",
       "    </tr>\n",
       "    <tr>\n",
       "      <th>...</th>\n",
       "      <td>...</td>\n",
       "      <td>...</td>\n",
       "      <td>...</td>\n",
       "      <td>...</td>\n",
       "      <td>...</td>\n",
       "    </tr>\n",
       "    <tr>\n",
       "      <th>1795</th>\n",
       "      <td>Word Madness</td>\n",
       "      <td>com.word.madness</td>\n",
       "      <td>Try out this challenging free-to-play word puz...</td>\n",
       "      <td>https://play-lh.googleusercontent.com/t_M2cgBN...</td>\n",
       "      <td>GAME_WORD</td>\n",
       "    </tr>\n",
       "    <tr>\n",
       "      <th>1796</th>\n",
       "      <td>Would u Rather? Party Game</td>\n",
       "      <td>com.androidmate.drinking.party.couples.dirty.b...</td>\n",
       "      <td>What Would You Rather Choose is a fun party ga...</td>\n",
       "      <td>https://play-lh.googleusercontent.com/EaSXgQI4...</td>\n",
       "      <td>GAME_WORD</td>\n",
       "    </tr>\n",
       "    <tr>\n",
       "      <th>1797</th>\n",
       "      <td>آمیرزا</td>\n",
       "      <td>com.BrainLadder.AmirzaGP</td>\n",
       "      <td>عزیزان به دنیای سراسر لذت و سرگرمی &amp;quot; آمیر...</td>\n",
       "      <td>https://play-lh.googleusercontent.com/J1tHDkRo...</td>\n",
       "      <td>GAME_WORD</td>\n",
       "    </tr>\n",
       "    <tr>\n",
       "      <th>1798</th>\n",
       "      <td>Crossword Puzzle Redstone</td>\n",
       "      <td>mobi.redstonegames.crossword.en</td>\n",
       "      <td>Solve thousands of crossword puzzles from indi...</td>\n",
       "      <td>https://play-lh.googleusercontent.com/VeXZh6L0...</td>\n",
       "      <td>GAME_WORD</td>\n",
       "    </tr>\n",
       "    <tr>\n",
       "      <th>1799</th>\n",
       "      <td>Word Craze - Trivia Crossword</td>\n",
       "      <td>com.wordgame.newcross.android.en</td>\n",
       "      <td>Get ready for this brand new crossword game wi...</td>\n",
       "      <td>https://play-lh.googleusercontent.com/DukDnh3Q...</td>\n",
       "      <td>GAME_WORD</td>\n",
       "    </tr>\n",
       "  </tbody>\n",
       "</table>\n",
       "<p>1800 rows × 5 columns</p>\n",
       "</div>"
      ],
      "text/plain": [
       "                          Game Name  \\\n",
       "0                   Wuthering Waves   \n",
       "1                            Roblox   \n",
       "2                    Subway Surfers   \n",
       "3                      MONOPOLY GO!   \n",
       "4                     Fishing Clash   \n",
       "...                             ...   \n",
       "1795                   Word Madness   \n",
       "1796     Would u Rather? Party Game   \n",
       "1797                         آمیرزا   \n",
       "1798      Crossword Puzzle Redstone   \n",
       "1799  Word Craze - Trivia Crossword   \n",
       "\n",
       "                                           Package Name  \\\n",
       "0                    com.kurogame.wutheringwaves.global   \n",
       "1                                     com.roblox.client   \n",
       "2                                  com.kiloo.subwaysurf   \n",
       "3                                com.scopely.monopolygo   \n",
       "4                          com.tensquaregames.letsfish2   \n",
       "...                                                 ...   \n",
       "1795                                   com.word.madness   \n",
       "1796  com.androidmate.drinking.party.couples.dirty.b...   \n",
       "1797                           com.BrainLadder.AmirzaGP   \n",
       "1798                    mobi.redstonegames.crossword.en   \n",
       "1799                   com.wordgame.newcross.android.en   \n",
       "\n",
       "                                            Description  \\\n",
       "0     Wuthering Waves is a story-rich open-world act...   \n",
       "1     Roblox is the ultimate virtual universe that l...   \n",
       "2     DASH as fast as you can! <br>DODGE the oncomin...   \n",
       "3     Hit GO! Roll the dice! Earn MONOPOLY money, in...   \n",
       "4     Have you ever had fish on your brain, but you ...   \n",
       "...                                                 ...   \n",
       "1795  Try out this challenging free-to-play word puz...   \n",
       "1796  What Would You Rather Choose is a fun party ga...   \n",
       "1797  عزیزان به دنیای سراسر لذت و سرگرمی &quot; آمیر...   \n",
       "1798  Solve thousands of crossword puzzles from indi...   \n",
       "1799  Get ready for this brand new crossword game wi...   \n",
       "\n",
       "                                               Icon URL   Category  \n",
       "0     https://play-lh.googleusercontent.com/ameFGPYH...       GAME  \n",
       "1     https://play-lh.googleusercontent.com/WNWZaxi9...       GAME  \n",
       "2     https://play-lh.googleusercontent.com/ykHUp1lJ...       GAME  \n",
       "3     https://play-lh.googleusercontent.com/DfYkSl-n...       GAME  \n",
       "4     https://play-lh.googleusercontent.com/edBDw0Tk...       GAME  \n",
       "...                                                 ...        ...  \n",
       "1795  https://play-lh.googleusercontent.com/t_M2cgBN...  GAME_WORD  \n",
       "1796  https://play-lh.googleusercontent.com/EaSXgQI4...  GAME_WORD  \n",
       "1797  https://play-lh.googleusercontent.com/J1tHDkRo...  GAME_WORD  \n",
       "1798  https://play-lh.googleusercontent.com/VeXZh6L0...  GAME_WORD  \n",
       "1799  https://play-lh.googleusercontent.com/DukDnh3Q...  GAME_WORD  \n",
       "\n",
       "[1800 rows x 5 columns]"
      ]
     },
     "execution_count": 20,
     "metadata": {},
     "output_type": "execute_result"
    }
   ],
   "source": [
    "games"
   ]
  },
  {
   "cell_type": "code",
   "execution_count": 21,
   "metadata": {},
   "outputs": [
    {
     "data": {
      "text/plain": [
       "1800"
      ]
     },
     "execution_count": 21,
     "metadata": {},
     "output_type": "execute_result"
    }
   ],
   "source": [
    "len(games)"
   ]
  },
  {
   "cell_type": "code",
   "execution_count": 22,
   "metadata": {},
   "outputs": [
    {
     "data": {
      "text/plain": [
       "1700"
      ]
     },
     "execution_count": 22,
     "metadata": {},
     "output_type": "execute_result"
    }
   ],
   "source": [
    "\n",
    "games = games.drop_duplicates(['Package Name'], keep='first')\n",
    "len(games)"
   ]
  },
  {
   "cell_type": "code",
   "execution_count": 23,
   "metadata": {},
   "outputs": [
    {
     "data": {
      "text/plain": [
       "True"
      ]
     },
     "execution_count": 23,
     "metadata": {},
     "output_type": "execute_result"
    }
   ],
   "source": [
    "games['Package Name'].is_unique"
   ]
  },
  {
   "cell_type": "code",
   "execution_count": 24,
   "metadata": {},
   "outputs": [],
   "source": [
    "games.to_csv('./Data/google_games_info.csv', index=False)"
   ]
  },
  {
   "cell_type": "code",
   "execution_count": 25,
   "metadata": {},
   "outputs": [],
   "source": [
    "\n",
    "games_detailed = pd.DataFrame() "
   ]
  },
  {
   "cell_type": "code",
   "execution_count": 26,
   "metadata": {},
   "outputs": [],
   "source": [
    "not_avail = ['com.procreate_adobeillustrator01.proguide01_app','com.countryball.strike.battle', 'com.aabv.zzd', 'com.spirit.ml.game']"
   ]
  },
  {
   "cell_type": "code",
   "execution_count": 15,
   "metadata": {},
   "outputs": [
    {
     "name": "stdout",
     "output_type": "stream",
     "text": [
      "Series([], Name: Package Name, dtype: object)\n",
      "CPU times: total: 0 ns\n",
      "Wall time: 3.31 ms\n"
     ]
    }
   ],
   "source": [
    "%%time\n",
    "\n",
    "from google_play_scraper import app\n",
    "import requests\n",
    "\n",
    "df = pd.DataFrame() # init\n",
    "\n",
    "# relevant features\n",
    "needed_keys = ['Game Name','Package Name','Description','Icon URL','Category']\n",
    "\n",
    "tmp = games['Package Name']\n",
    "#tmp = tmp[:2000]\n",
    "# tmp = tmp[2000:8000]\n",
    "tmp = tmp[3000:5000]\n",
    "#tmp = tmp[5000:6000]\n",
    "#tmp = tmp[6000:7000]\n",
    "#tmp = tmp[7000:8000]\n",
    "tmp = tmp[~tmp.isin(not_avail)] # remove games that cannot be queried\n",
    "print(tmp)\n",
    "for c,g in enumerate(tmp):\n",
    "    \n",
    "    print(str(c) + ' ' + g)\n",
    "    try:\n",
    "        game_info = app(\n",
    "            g,\n",
    "            lang='en', # defaults to 'en'\n",
    "            country='sg' # defaults to 'us'\n",
    "        )\n",
    "    except:\n",
    "        pass\n",
    "    # get only needed features\n",
    "    game_relevant_info = {needed_key: game_info.get(needed_key) for needed_key in needed_keys}\n",
    "    df = df.append(pd.DataFrame([game_relevant_info])) # append to df"
   ]
  },
  {
   "cell_type": "code",
   "execution_count": 14,
   "metadata": {},
   "outputs": [],
   "source": [
    "\n",
    "# games_detailed = games_detailed.append(df)"
   ]
  },
  {
   "cell_type": "code",
   "execution_count": null,
   "metadata": {},
   "outputs": [],
   "source": []
  },
  {
   "cell_type": "code",
   "execution_count": null,
   "metadata": {},
   "outputs": [],
   "source": []
  }
 ],
 "metadata": {
  "kernelspec": {
   "display_name": "Python 3",
   "language": "python",
   "name": "python3"
  },
  "language_info": {
   "codemirror_mode": {
    "name": "ipython",
    "version": 3
   },
   "file_extension": ".py",
   "mimetype": "text/x-python",
   "name": "python",
   "nbconvert_exporter": "python",
   "pygments_lexer": "ipython3",
   "version": "3.10.5"
  }
 },
 "nbformat": 4,
 "nbformat_minor": 2
}
